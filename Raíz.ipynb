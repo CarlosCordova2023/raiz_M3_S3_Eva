{
  "nbformat": 4,
  "nbformat_minor": 0,
  "metadata": {
    "colab": {
      "provenance": [],
      "authorship_tag": "ABX9TyOWQqHmC7aef2fAxrTwQvWS",
      "include_colab_link": true
    },
    "kernelspec": {
      "name": "python3",
      "display_name": "Python 3"
    },
    "language_info": {
      "name": "python"
    }
  },
  "cells": [
    {
      "cell_type": "markdown",
      "metadata": {
        "id": "view-in-github",
        "colab_type": "text"
      },
      "source": [
        "<a href=\"https://colab.research.google.com/github/CarlosCordova2023/raiz_M3_S3_Eva/blob/main/Ra%C3%ADz.ipynb\" target=\"_parent\"><img src=\"https://colab.research.google.com/assets/colab-badge.svg\" alt=\"Open In Colab\"/></a>"
      ]
    },
    {
      "cell_type": "code",
      "execution_count": 1,
      "metadata": {
        "colab": {
          "base_uri": "https://localhost:8080/"
        },
        "id": "O4rm7QV_FpIh",
        "outputId": "6032b0e1-408b-4fcc-9859-0a61eca63819"
      },
      "outputs": [
        {
          "output_type": "stream",
          "name": "stdout",
          "text": [
            "La raíz cuadrada de 81 es: 9.0\n"
          ]
        }
      ],
      "source": [
        "# Importamos el módulo math para poder usar la función sqrt()\n",
        "import math\n",
        "\n",
        "# Asignamos el valor 81 a la variable 'y'\n",
        "y = 81\n",
        "\n",
        "# Calculamos la raíz cuadrada de 'y' usando la función sqrt() del módulo math\n",
        "raiz_cuadrada = math.sqrt(y)\n",
        "\n",
        "# Imprimimos el resultado en pantalla\n",
        "print(\"La raíz cuadrada de\", y, \"es:\", raiz_cuadrada)\n"
      ]
    }
  ]
}